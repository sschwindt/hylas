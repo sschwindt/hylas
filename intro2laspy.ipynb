{
 "cells": [
  {
   "cell_type": "markdown",
   "metadata": {},
   "source": [
    "---\n",
    "title: LiDAR\n",
    "tags: [geo, geospatial,]\n",
    "keywords: geo-python gdal QGIS\n",
    "summary: \"Digest lidar data in Python\"\n",
    "sidebar: mydoc_sidebar\n",
    "permalink: lidar.html\n",
    "folder: geopy\n",
    "---\n",
    "\n",
    "\n",
    "{% include tip.html content=\"Use [*QGIS*](geo_software.html#qgis) to display geospatial data products.\" %}\n",
    "\n",
    "## Laspy\n",
    "\n",
    "* [Documentation](https://laspy.readthedocs.io/en/latest/)\n",
    "* [Tutorials](https://laspy.readthedocs.io/en/latest/tut_background.html)\n",
    "\n",
    "{% include windows.html content=\"In order to work with the *LAStools* plugin in *QGIS*, download `LAStools.zip` from [https://www.cs.unc.edu/~isenburg/lastools/](https://www.cs.unc.edu/~isenburg/lastools/) (not a freeware), and unpack the zip folder to `C:\\LAStools\\`. Make sure that the directory `C:\\LAStools\\bin` exists and contains `las2shp.exe`.\" %}\n",
    "\n",
    "\n",
    "### Install\n",
    "\n",
    "Type in *Anaconda Prompt*:\n",
    "\n",
    "```\n",
    "conda install -c conda-forge laspy\n",
    "```\n",
    "\n",
    "Find advanced installation instructions on [laspy.readthedocs.io](https://laspy.readthedocs.io/en/latest/tut_part_1.html).\n",
    "\n",
    "### Usage\n",
    "*laspy* uses *numpy* arrays to store data and this is why both libraries need be imported to read a *las* file:"
   ]
  },
  {
   "cell_type": "code",
   "execution_count": 1,
   "metadata": {},
   "outputs": [],
   "source": [
    "import numpy\n",
    "import laspy\n",
    "las_file_name = os.path.abspath(\"\") + \"/data/subsample.las\""
   ]
  },
  {
   "cell_type": "markdown",
   "metadata": {},
   "source": [
    "Then, we can load a *las* file with `file_object = laspy.file.File(`file_name`, mode=\"rw\")`. Allowed `mode`s are `\"r\"` (read), `\"w\"` (write), and `\"rw\"` (read-write).\n",
    "\n",
    "To read essential data (points with attributes) from a *las* file, extract the points (*numpy* array) and have a look at the *dtypes*. The following code block uses a `with` statement to avoid that the *las* file is locked by *Python*:"
   ]
  },
  {
   "cell_type": "code",
   "execution_count": 2,
   "metadata": {},
   "outputs": [
    {
     "name": "stdout",
     "output_type": "stream",
     "text": [
      "[('point', [('X', '<i4'), ('Y', '<i4'), ('Z', '<i4'), ('intensity', '<u2'), ('flag_byte', 'u1'), ('classification_flags', 'u1'), ('classification_byte', 'u1'), ('user_data', 'u1'), ('scan_angle', '<i2'), ('pt_src_id', '<u2'), ('gps_time', '<f8')])]\n"
     ]
    }
   ],
   "source": [
    "with laspy.file.File(las_file_name, mode=\"r\") as las_file:\n",
    "    pts = las_file.points\n",
    "\n",
    "print(pts.dtype)"
   ]
  },
  {
   "cell_type": "markdown",
   "metadata": {},
   "source": [
    "`('X', '<i4'), ('Y', '<i4'), ('Z', '<i4')` tells us, that the first three array entries are a point's X, Y, and Z coordinates, , followed by `'intensity'` and so on. So the first row of points looks like this:"
   ]
  },
  {
   "cell_type": "markdown",
   "metadata": {},
   "source": [
    "The *las* file has many more attribute such as color ranges (*Red*, *Green*, *Blue*), spatial reference, or *NIR* (near-infrared). The following code block extracts and prints some of the file properties including its header:"
   ]
  },
  {
   "cell_type": "code",
   "execution_count": 10,
   "metadata": {},
   "outputs": [
    {
     "name": "stdout",
     "output_type": "stream",
     "text": [
      "['Blue', 'Classification', 'Green', 'Intensity', 'Key_Point', 'Raw_Classification', 'Red', 'Synthetic', 'Withheld', 'X', 'Y', 'Z', '__class__', '__delattr__', '__dict__', '__dir__', '__doc__', '__enter__', '__eq__', '__exit__', '__format__', '__ge__', '__getattribute__', '__getitem__', '__gt__', '__hash__', '__init__', '__init_subclass__', '__iter__', '__le__', '__len__', '__lt__', '__module__', '__ne__', '__new__', '__reduce__', '__reduce_ex__', '__repr__', '__setattr__', '__sizeof__', '__str__', '__subclasshook__', '__weakref__', '_evlrs', '_header', '_mode', '_reader', '_vlrs', 'addProperty', 'assertWriteMode', 'blue', 'byte_offset_to_waveform_data', 'classification', 'classification_flags', 'close', 'define_new_dimension', 'doc', 'edge_flight_line', 'extra_bytes', 'filename', 'flag_byte', 'get_blue', 'get_byte_offset_to_waveform_data', 'get_classification', 'get_classification_flags', 'get_edge_flight_line', 'get_extra_bytes', 'get_flag_byte', 'get_gps_time', 'get_green', 'get_header', 'get_input_srs', 'get_intensity', 'get_key_point', 'get_nir', 'get_num_returns', 'get_output_srs', 'get_overlap', 'get_point_format', 'get_points', 'get_pt_src_id', 'get_raw_classification', 'get_reader', 'get_red', 'get_return_num', 'get_return_point_waveform_loc', 'get_scan_angle', 'get_scan_angle_rank', 'get_scan_dir_flag', 'get_scanner_channel', 'get_synthetic', 'get_user_data', 'get_wave_packet_desc_index', 'get_waveform_packet_size', 'get_withheld', 'get_writer', 'get_x', 'get_x_scaled', 'get_x_t', 'get_y', 'get_y_scaled', 'get_y_t', 'get_z', 'get_z_scaled', 'get_z_t', 'gps_time', 'green', 'header', 'in_srs', 'input_srs', 'intensity', 'key_point', 'nir', 'num_returns', 'open', 'out_srs', 'output_srs', 'overlap', 'point_format', 'points', 'pt_src_id', 'raw_classification', 'read', 'reader', 'red', 'reopen', 'return_num', 'return_point_waveform_loc', 'scan_angle', 'scan_angle_rank', 'scan_dir_flag', 'scanner_channel', 'set_blue', 'set_byte_offset_to_waveform_data', 'set_classification', 'set_classification_flags', 'set_edge_flight_line', 'set_extra_bytes', 'set_flag_byte', 'set_gps_time', 'set_green', 'set_header', 'set_input_srs', 'set_intensity', 'set_key_point', 'set_nir', 'set_num_returns', 'set_output_srs', 'set_overlap', 'set_points', 'set_pt_src_id', 'set_raw_classification', 'set_reader', 'set_red', 'set_return_num', 'set_return_point_waveform_loc', 'set_scan_angle', 'set_scan_angle_rank', 'set_scan_dir_flag', 'set_scanner_channel', 'set_srs', 'set_synthetic', 'set_user_data', 'set_wave_packet_desc_index', 'set_waveform_packet_size', 'set_withheld', 'set_writer', 'set_x', 'set_x_scaled', 'set_x_t', 'set_y', 'set_y_scaled', 'set_y_t', 'set_z', 'set_z_scaled', 'set_z_t', 'synthetic', 'user_data', 'visualize', 'wave_packet_desc_index', 'waveform_packet_size', 'withheld', 'write', 'writer', 'x', 'x_t', 'y', 'y_t', 'z', 'z_t']\n",
      "file_sig, file_source_id, global_encoding, proj_id_1, proj_id_2, proj_id_3, proj_id_4, version_major, version_minor, system_id, software_id, created_day, created_year, header_size, data_offset, num_variable_len_recs, data_format_id, data_record_length, legacy_point_records_count, legacy_point_return_count, x_scale, y_scale, z_scale, x_offset, y_offset, z_offset, x_max, x_min, y_max, y_min, z_max, z_min, start_wavefm_data_rec, start_first_evlr, num_evlrs, point_records_count, point_return_count\n"
     ]
    }
   ],
   "source": [
    "with laspy.file.File(las_file_name, mode=\"r\") as las_file:\n",
    "    print(dir(las_file))\n",
    "    headers = [str(spec.name) for spec in las_file.header.header_format]\n",
    "print(\", \".join(headers))"
   ]
  },
  {
   "cell_type": "markdown",
   "metadata": {},
   "source": [
    "To access geospatial and point properties"
   ]
  },
  {
   "cell_type": "code",
   "execution_count": 4,
   "metadata": {},
   "outputs": [
    {
     "name": "stdout",
     "output_type": "stream",
     "text": [
      "x_dim: [252392 252726 252645 ... 215816 216018 216753]\n",
      "y_dim: [-451699 -448771 -448837 ... -423009 -424070 -424156]\n",
      "scale: 0.001\n",
      "offset: 751251.0\n"
     ]
    }
   ],
   "source": [
    "with laspy.file.File(las_file_name, mode=\"rw\") as las_file:\n",
    "    pts = las_file.points\n",
    "    x_dim = las_file.X\n",
    "    y_dim = las_file.Y\n",
    "    scale = las_file.header.scale[0]\n",
    "    offset = las_file.header.offset[0]\n",
    "\n",
    "    print(\"x_dim: \" + str(x_dim))\n",
    "    print(\"y_dim: \" + str(y_dim))\n",
    "    print(\"scale: \" + str(scale))\n",
    "    print(\"offset: \" + str(offset))\n"
   ]
  },
  {
   "cell_type": "code",
   "execution_count": 9,
   "metadata": {},
   "outputs": [
    {
     "name": "stdout",
     "output_type": "stream",
     "text": [
      "['__add__', '__class__', '__contains__', '__delattr__', '__delitem__', '__dir__', '__doc__', '__eq__', '__format__', '__ge__', '__getattribute__', '__getitem__', '__gt__', '__hash__', '__iadd__', '__imul__', '__init__', '__init_subclass__', '__iter__', '__le__', '__len__', '__lt__', '__mul__', '__ne__', '__new__', '__reduce__', '__reduce_ex__', '__repr__', '__reversed__', '__rmul__', '__setattr__', '__setitem__', '__sizeof__', '__str__', '__subclasshook__', 'append', 'clear', 'copy', 'count', 'extend', 'index', 'insert', 'pop', 'remove', 'reverse', 'sort']\n",
      "[252392 252726 252645 ... 215816 216018 216753]\n",
      "X\n",
      "[-451699 -448771 -448837 ... -423009 -424070 -424156]\n",
      "Y\n",
      "[502275 393328 393357 ... 407968 404934 405072]\n",
      "Z\n",
      "[ 146 1402 1340 ... 1967 1232 1040]\n",
      "intensity\n",
      "[33 33 33 ... 17 33 66]\n",
      "flag_byte\n",
      "[0 0 0 ... 0 0 0]\n",
      "classification_flags\n",
      "[0 0 0 ... 0 0 0]\n",
      "classification_byte\n",
      "[0 0 0 ... 0 0 0]\n",
      "user_data\n",
      "[0 0 0 ... 0 0 0]\n",
      "scan_angle\n",
      "[101 101 101 ...  89  89  89]\n",
      "pt_src_id\n",
      "[470157.6591803  470159.14081119 470159.14081295 ... 468396.66051627\n",
      " 468396.66052361 468396.66053632]\n",
      "gps_time\n"
     ]
    }
   ],
   "source": [
    "import copy\n",
    "\n",
    "las_file = laspy.file.File(las_file_name, mode=\"r\")\n",
    "\n",
    "\n",
    "print(dir(las_file.header.vlrs))\n",
    "\n",
    "for spec in las_file.reader.point_format:\n",
    "    in_spec = las_file.reader.get_dimension(spec.name)\n",
    "    print(in_spec)\n",
    "    print(spec.name)\n",
    "\n"
   ]
  },
  {
   "cell_type": "code",
   "execution_count": null,
   "metadata": {},
   "outputs": [],
   "source": []
  }
 ],
 "metadata": {
  "kernelspec": {
   "display_name": "Python 3",
   "language": "python",
   "name": "python3"
  },
  "language_info": {
   "codemirror_mode": {
    "name": "ipython",
    "version": 3
   },
   "file_extension": ".py",
   "mimetype": "text/x-python",
   "name": "python",
   "nbconvert_exporter": "python",
   "pygments_lexer": "ipython3",
   "version": "3.7.7"
  }
 },
 "nbformat": 4,
 "nbformat_minor": 4
}
